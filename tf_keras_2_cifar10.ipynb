{
 "cells": [
  {
   "cell_type": "code",
   "execution_count": 1,
   "metadata": {},
   "outputs": [],
   "source": [
    "%reload_ext autoreload\n",
    "%autoreload 2\n",
    "%matplotlib inline"
   ]
  },
  {
   "cell_type": "code",
   "execution_count": 2,
   "metadata": {},
   "outputs": [
    {
     "name": "stderr",
     "output_type": "stream",
     "text": [
      "Using TensorFlow backend.\n"
     ]
    }
   ],
   "source": [
    "import keras\n",
    "from keras.datasets import cifar10\n",
    "import numpy as np\n",
    "from keras.preprocessing.image import ImageDataGenerator, image\n",
    "from keras.layers import Dropout, Flatten, Dense, GlobalAveragePooling2D, Activation, Conv2D, MaxPooling2D\n",
    "from keras.applications import ResNet50\n",
    "from keras.applications.resnet50 import preprocess_input\n",
    "from keras.models import Model, Sequential\n",
    "import matplotlib.pyplot as plt"
   ]
  },
  {
   "cell_type": "code",
   "execution_count": 3,
   "metadata": {},
   "outputs": [],
   "source": [
    "(x_train,y_train), (x_test,y_test) = cifar10.load_data()"
   ]
  },
  {
   "cell_type": "code",
   "execution_count": 4,
   "metadata": {},
   "outputs": [
    {
     "data": {
      "text/plain": [
       "['/job:localhost/replica:0/task:0/device:GPU:0']"
      ]
     },
     "execution_count": 4,
     "metadata": {},
     "output_type": "execute_result"
    }
   ],
   "source": [
    "from keras import backend as K\n",
    "K.tensorflow_backend._get_available_gpus()"
   ]
  },
  {
   "cell_type": "code",
   "execution_count": 5,
   "metadata": {},
   "outputs": [
    {
     "name": "stdout",
     "output_type": "stream",
     "text": [
      "x_train shape: (50000, 32, 32, 3)\n",
      "50000 train samples\n",
      "10000 test samples\n"
     ]
    }
   ],
   "source": [
    "print('x_train shape:', x_train.shape)\n",
    "print(x_train.shape[0], 'train samples')\n",
    "print(x_test.shape[0], 'test samples')"
   ]
  },
  {
   "cell_type": "code",
   "execution_count": 6,
   "metadata": {},
   "outputs": [
    {
     "data": {
      "image/png": "[encoded data removed]",
      "text/plain": [
       "<matplotlib.figure.Figure at 0x846eb00>"
      ]
     },
     "metadata": {},
     "output_type": "display_data"
    }
   ],
   "source": [
    "for i in range(0,1):\n",
    "    first_array=x_train[i]\n",
    "    #Not sure you even have to do that if you just want to visualize it\n",
    "    #first_array=255*first_array\n",
    "    #first_array=first_array.astype(\"uint8\")\n",
    "    plt.imshow(first_array)\n",
    "    #Actually displaying the plot if you are not in interactive mode\n",
    "    plt.show()\n",
    "    #Saving plot\n",
    "    #plt.savefig(\"fig.png\")"
   ]
  },
  {
   "cell_type": "code",
   "execution_count": 7,
   "metadata": {},
   "outputs": [],
   "source": [
    "batch_size = 64\n",
    "num_classes = 10\n",
    "epochs = 100"
   ]
  },
  {
   "cell_type": "code",
   "execution_count": 8,
   "metadata": {},
   "outputs": [],
   "source": [
    "y_train = keras.utils.to_categorical(y_train, num_classes)\n",
    "y_test = keras.utils.to_categorical(y_test, num_classes)"
   ]
  },
  {
   "cell_type": "code",
   "execution_count": 9,
   "metadata": {
    "scrolled": true
   },
   "outputs": [
    {
     "name": "stdout",
     "output_type": "stream",
     "text": [
      "Train on 50000 samples, validate on 10000 samples\n",
      "Epoch 1/100\n",
      "50000/50000 [==============================] - 17s 333us/step - loss: 2.2502 - acc: 0.1455 - val_loss: 2.1896 - val_acc: 0.1930\n",
      "Epoch 2/100\n",
      "50000/50000 [==============================] - 15s 292us/step - loss: 2.1701 - acc: 0.2030 - val_loss: 2.1337 - val_acc: 0.2529\n",
      "Epoch 3/100\n",
      "50000/50000 [==============================] - 14s 276us/step - loss: 2.1225 - acc: 0.2720 - val_loss: 2.0880 - val_acc: 0.3162\n",
      "Epoch 4/100\n",
      "50000/50000 [==============================] - 15s 302us/step - loss: 2.0761 - acc: 0.3278 - val_loss: 2.0403 - val_acc: 0.3693\n",
      "Epoch 5/100\n",
      "50000/50000 [==============================] - 12s 250us/step - loss: 2.0294 - acc: 0.3579 - val_loss: 1.9941 - val_acc: 0.3734\n",
      "Epoch 6/100\n",
      "50000/50000 [==============================] - 12s 243us/step - loss: 1.9810 - acc: 0.3786 - val_loss: 1.9502 - val_acc: 0.3902\n",
      "Epoch 7/100\n",
      "50000/50000 [==============================] - 12s 242us/step - loss: 1.9341 - acc: 0.3883 - val_loss: 1.9194 - val_acc: 0.3841\n",
      "Epoch 8/100\n",
      "50000/50000 [==============================] - 13s 257us/step - loss: 1.8876 - acc: 0.3970 - val_loss: 1.8789 - val_acc: 0.3961\n",
      "Epoch 9/100\n",
      "50000/50000 [==============================] - 15s 299us/step - loss: 1.8441 - acc: 0.4063 - val_loss: 1.8235 - val_acc: 0.4115\n",
      "Epoch 10/100\n",
      "50000/50000 [==============================] - 15s 300us/step - loss: 1.8012 - acc: 0.4105 - val_loss: 1.7812 - val_acc: 0.4225\n",
      "Epoch 11/100\n",
      "50000/50000 [==============================] - 14s 280us/step - loss: 1.7631 - acc: 0.4189 - val_loss: 1.7576 - val_acc: 0.4048\n",
      "Epoch 12/100\n",
      "50000/50000 [==============================] - 14s 280us/step - loss: 1.7244 - acc: 0.4232 - val_loss: 1.7083 - val_acc: 0.4326\n",
      "Epoch 13/100\n",
      "50000/50000 [==============================] - 14s 286us/step - loss: 1.6892 - acc: 0.4299 - val_loss: 1.6609 - val_acc: 0.4389\n",
      "Epoch 14/100\n",
      "50000/50000 [==============================] - 15s 291us/step - loss: 1.6535 - acc: 0.4344 - val_loss: 1.6679 - val_acc: 0.4340\n",
      "Epoch 15/100\n",
      "50000/50000 [==============================] - 14s 288us/step - loss: 1.6221 - acc: 0.4404 - val_loss: 1.5914 - val_acc: 0.4521\n",
      "Epoch 16/100\n",
      "50000/50000 [==============================] - 15s 292us/step - loss: 1.5881 - acc: 0.4464 - val_loss: 1.5765 - val_acc: 0.4467\n",
      "Epoch 17/100\n",
      "50000/50000 [==============================] - 14s 289us/step - loss: 1.5591 - acc: 0.4513 - val_loss: 1.5447 - val_acc: 0.4554\n",
      "Epoch 18/100\n",
      "50000/50000 [==============================] - 14s 273us/step - loss: 1.5301 - acc: 0.4582 - val_loss: 1.5190 - val_acc: 0.4635\n",
      "Epoch 19/100\n",
      "50000/50000 [==============================] - 14s 275us/step - loss: 1.5027 - acc: 0.4626 - val_loss: 1.5037 - val_acc: 0.4681\n",
      "Epoch 20/100\n",
      "50000/50000 [==============================] - 14s 272us/step - loss: 1.4729 - acc: 0.4772 - val_loss: 1.4738 - val_acc: 0.4861\n",
      "Epoch 21/100\n",
      "50000/50000 [==============================] - 14s 271us/step - loss: 1.4479 - acc: 0.5039 - val_loss: 1.4315 - val_acc: 0.5120\n",
      "Epoch 22/100\n",
      "50000/50000 [==============================] - 14s 271us/step - loss: 1.4230 - acc: 0.5106 - val_loss: 1.4028 - val_acc: 0.5235\n",
      "Epoch 23/100\n",
      "50000/50000 [==============================] - 14s 285us/step - loss: 1.3951 - acc: 0.5183 - val_loss: 1.3753 - val_acc: 0.5315\n",
      "Epoch 24/100\n",
      "50000/50000 [==============================] - 12s 244us/step - loss: 1.3719 - acc: 0.5240 - val_loss: 1.3579 - val_acc: 0.5343\n",
      "Epoch 25/100\n",
      "50000/50000 [==============================] - 12s 239us/step - loss: 1.3457 - acc: 0.5340 - val_loss: 1.3236 - val_acc: 0.5463\n",
      "Epoch 26/100\n",
      "50000/50000 [==============================] - 12s 240us/step - loss: 1.3265 - acc: 0.5377 - val_loss: 1.3057 - val_acc: 0.5519\n",
      "Epoch 27/100\n",
      "50000/50000 [==============================] - 12s 236us/step - loss: 1.3021 - acc: 0.5415 - val_loss: 1.2978 - val_acc: 0.5555\n",
      "Epoch 28/100\n",
      "50000/50000 [==============================] - 12s 236us/step - loss: 1.2790 - acc: 0.5494 - val_loss: 1.3714 - val_acc: 0.5318\n",
      "Epoch 29/100\n",
      "50000/50000 [==============================] - 12s 240us/step - loss: 1.2570 - acc: 0.5567 - val_loss: 1.2351 - val_acc: 0.5750\n",
      "Epoch 30/100\n",
      "50000/50000 [==============================] - 12s 236us/step - loss: 1.2395 - acc: 0.5621 - val_loss: 1.2689 - val_acc: 0.5558\n",
      "Epoch 31/100\n",
      "50000/50000 [==============================] - 12s 236us/step - loss: 1.2165 - acc: 0.5665 - val_loss: 1.2039 - val_acc: 0.5753\n",
      "Epoch 32/100\n",
      "50000/50000 [==============================] - 12s 236us/step - loss: 1.1991 - acc: 0.5705 - val_loss: 1.2093 - val_acc: 0.5773\n",
      "Epoch 33/100\n",
      "50000/50000 [==============================] - 12s 237us/step - loss: 1.1797 - acc: 0.5774 - val_loss: 1.1731 - val_acc: 0.5855\n",
      "Epoch 34/100\n",
      "50000/50000 [==============================] - 12s 242us/step - loss: 1.1627 - acc: 0.5844 - val_loss: 1.1726 - val_acc: 0.5834\n",
      "Epoch 35/100\n",
      "50000/50000 [==============================] - 12s 244us/step - loss: 1.1463 - acc: 0.5876 - val_loss: 1.1465 - val_acc: 0.5941\n",
      "Epoch 36/100\n",
      "50000/50000 [==============================] - 12s 244us/step - loss: 1.1336 - acc: 0.5920 - val_loss: 1.1737 - val_acc: 0.5770\n",
      "Epoch 37/100\n",
      "50000/50000 [==============================] - 12s 246us/step - loss: 1.1173 - acc: 0.5948 - val_loss: 1.1292 - val_acc: 0.5959\n",
      "Epoch 38/100\n",
      "50000/50000 [==============================] - 12s 239us/step - loss: 1.0984 - acc: 0.6015 - val_loss: 1.1027 - val_acc: 0.6042\n",
      "Epoch 39/100\n",
      "50000/50000 [==============================] - 12s 237us/step - loss: 1.0865 - acc: 0.6015 - val_loss: 1.0907 - val_acc: 0.6055\n",
      "Epoch 40/100\n",
      "50000/50000 [==============================] - 12s 249us/step - loss: 1.0721 - acc: 0.6059 - val_loss: 1.0812 - val_acc: 0.6059\n",
      "Epoch 41/100\n",
      "50000/50000 [==============================] - 13s 257us/step - loss: 1.0586 - acc: 0.6102 - val_loss: 1.0977 - val_acc: 0.5876\n",
      "Epoch 42/100\n",
      "50000/50000 [==============================] - 12s 241us/step - loss: 1.0467 - acc: 0.6133 - val_loss: 1.0756 - val_acc: 0.6111\n",
      "Epoch 43/100\n",
      "50000/50000 [==============================] - 13s 254us/step - loss: 1.0364 - acc: 0.6141 - val_loss: 1.0979 - val_acc: 0.6026\n",
      "Epoch 44/100\n",
      "50000/50000 [==============================] - 12s 239us/step - loss: 1.0233 - acc: 0.6174 - val_loss: 1.0444 - val_acc: 0.6173\n",
      "Epoch 45/100\n",
      "50000/50000 [==============================] - 12s 237us/step - loss: 1.0161 - acc: 0.6170 - val_loss: 1.0541 - val_acc: 0.6195\n",
      "Epoch 46/100\n",
      "50000/50000 [==============================] - 12s 243us/step - loss: 1.0044 - acc: 0.6239 - val_loss: 1.0393 - val_acc: 0.6129\n",
      "Epoch 47/100\n",
      "50000/50000 [==============================] - 12s 246us/step - loss: 0.9952 - acc: 0.6241 - val_loss: 1.0164 - val_acc: 0.6219\n",
      "Epoch 48/100\n",
      "50000/50000 [==============================] - 12s 242us/step - loss: 0.9813 - acc: 0.6295 - val_loss: 1.0188 - val_acc: 0.6197\n",
      "Epoch 49/100\n",
      "50000/50000 [==============================] - 12s 241us/step - loss: 0.9739 - acc: 0.6337 - val_loss: 1.0216 - val_acc: 0.6231\n",
      "Epoch 50/100\n",
      "50000/50000 [==============================] - 12s 240us/step - loss: 0.9612 - acc: 0.6363 - val_loss: 0.9910 - val_acc: 0.6320\n",
      "Epoch 51/100\n",
      "50000/50000 [==============================] - 12s 246us/step - loss: 0.9556 - acc: 0.6385 - val_loss: 0.9909 - val_acc: 0.6276\n",
      "Epoch 52/100\n",
      "50000/50000 [==============================] - 12s 238us/step - loss: 0.9489 - acc: 0.6414 - val_loss: 0.9691 - val_acc: 0.6403\n",
      "Epoch 53/100\n",
      "50000/50000 [==============================] - 13s 260us/step - loss: 0.9436 - acc: 0.6416 - val_loss: 0.9755 - val_acc: 0.6362\n",
      "Epoch 54/100\n",
      "50000/50000 [==============================] - 13s 262us/step - loss: 0.9321 - acc: 0.6472 - val_loss: 0.9632 - val_acc: 0.6413\n",
      "Epoch 55/100\n",
      "50000/50000 [==============================] - 12s 238us/step - loss: 0.9259 - acc: 0.6490 - val_loss: 0.9923 - val_acc: 0.6294\n",
      "Epoch 56/100\n",
      "50000/50000 [==============================] - 12s 236us/step - loss: 0.9136 - acc: 0.6543 - val_loss: 0.9514 - val_acc: 0.6498\n",
      "Epoch 57/100\n",
      "50000/50000 [==============================] - 12s 240us/step - loss: 0.9125 - acc: 0.6526 - val_loss: 0.9628 - val_acc: 0.6437\n",
      "Epoch 58/100\n",
      "50000/50000 [==============================] - 12s 246us/step - loss: 0.9060 - acc: 0.6559 - val_loss: 0.9779 - val_acc: 0.6298\n"
     ]
    },
    {
     "name": "stdout",
     "output_type": "stream",
     "text": [
      "Epoch 59/100\n",
      "50000/50000 [==============================] - 12s 240us/step - loss: 0.9042 - acc: 0.6584 - val_loss: 0.9393 - val_acc: 0.6488\n",
      "Epoch 60/100\n",
      "50000/50000 [==============================] - 12s 239us/step - loss: 0.8908 - acc: 0.6621 - val_loss: 0.9397 - val_acc: 0.6524\n",
      "Epoch 61/100\n",
      "50000/50000 [==============================] - 12s 240us/step - loss: 0.8856 - acc: 0.6637 - val_loss: 0.9405 - val_acc: 0.6598\n",
      "Epoch 62/100\n",
      "50000/50000 [==============================] - 12s 247us/step - loss: 0.8798 - acc: 0.6678 - val_loss: 0.9347 - val_acc: 0.6640\n",
      "Epoch 63/100\n",
      "50000/50000 [==============================] - 12s 250us/step - loss: 0.8741 - acc: 0.6705 - val_loss: 0.9169 - val_acc: 0.6536\n",
      "Epoch 64/100\n",
      "50000/50000 [==============================] - 12s 249us/step - loss: 0.8731 - acc: 0.6710 - val_loss: 0.9086 - val_acc: 0.6625\n",
      "Epoch 65/100\n",
      "50000/50000 [==============================] - 12s 244us/step - loss: 0.8641 - acc: 0.6750 - val_loss: 0.9113 - val_acc: 0.6669\n",
      "Epoch 66/100\n",
      "50000/50000 [==============================] - 12s 245us/step - loss: 0.8624 - acc: 0.6767 - val_loss: 0.9188 - val_acc: 0.6641\n",
      "Epoch 67/100\n",
      "50000/50000 [==============================] - 12s 243us/step - loss: 0.8559 - acc: 0.6804 - val_loss: 0.9100 - val_acc: 0.6675\n",
      "Epoch 68/100\n",
      "50000/50000 [==============================] - 12s 246us/step - loss: 0.8505 - acc: 0.6839 - val_loss: 0.9021 - val_acc: 0.6664\n",
      "Epoch 69/100\n",
      "50000/50000 [==============================] - 12s 245us/step - loss: 0.8431 - acc: 0.6855 - val_loss: 0.8988 - val_acc: 0.6761\n",
      "Epoch 70/100\n",
      "50000/50000 [==============================] - 13s 252us/step - loss: 0.8373 - acc: 0.6894 - val_loss: 0.9051 - val_acc: 0.6714\n",
      "Epoch 71/100\n",
      "50000/50000 [==============================] - 12s 245us/step - loss: 0.8353 - acc: 0.6946 - val_loss: 0.8999 - val_acc: 0.6846\n",
      "Epoch 72/100\n",
      "50000/50000 [==============================] - 12s 239us/step - loss: 0.8294 - acc: 0.7005 - val_loss: 0.8985 - val_acc: 0.6739\n",
      "Epoch 73/100\n",
      "50000/50000 [==============================] - 14s 278us/step - loss: 0.8242 - acc: 0.7031 - val_loss: 0.8822 - val_acc: 0.6936\n",
      "Epoch 74/100\n",
      "50000/50000 [==============================] - 13s 255us/step - loss: 0.8170 - acc: 0.7083 - val_loss: 0.8664 - val_acc: 0.7030\n",
      "Epoch 75/100\n",
      "50000/50000 [==============================] - 13s 269us/step - loss: 0.8137 - acc: 0.7120 - val_loss: 0.8670 - val_acc: 0.7048  - ETA: 3s - \n",
      "Epoch 76/100\n",
      "50000/50000 [==============================] - 13s 267us/step - loss: 0.8120 - acc: 0.7131 - val_loss: 0.8719 - val_acc: 0.7116\n",
      "Epoch 77/100\n",
      "50000/50000 [==============================] - 13s 267us/step - loss: 0.8032 - acc: 0.7223 - val_loss: 0.8929 - val_acc: 0.7082\n",
      "Epoch 78/100\n",
      "50000/50000 [==============================] - 12s 248us/step - loss: 0.7985 - acc: 0.7241 - val_loss: 0.8561 - val_acc: 0.7137\n",
      "Epoch 79/100\n",
      "50000/50000 [==============================] - 12s 243us/step - loss: 0.7978 - acc: 0.7254 - val_loss: 0.8766 - val_acc: 0.7129\n",
      "Epoch 80/100\n",
      "50000/50000 [==============================] - 12s 243us/step - loss: 0.7889 - acc: 0.7294 - val_loss: 0.8599 - val_acc: 0.7204\n",
      "Epoch 81/100\n",
      "50000/50000 [==============================] - 12s 248us/step - loss: 0.7860 - acc: 0.7351 - val_loss: 0.8620 - val_acc: 0.7198\n",
      "Epoch 82/100\n",
      "50000/50000 [==============================] - 12s 243us/step - loss: 0.7797 - acc: 0.7373 - val_loss: 0.8647 - val_acc: 0.7230\n",
      "Epoch 83/100\n",
      "50000/50000 [==============================] - 12s 248us/step - loss: 0.7744 - acc: 0.7432 - val_loss: 0.8336 - val_acc: 0.7287\n",
      "Epoch 84/100\n",
      "50000/50000 [==============================] - 12s 243us/step - loss: 0.7725 - acc: 0.7443 - val_loss: 0.8496 - val_acc: 0.7313\n",
      "Epoch 85/100\n",
      "50000/50000 [==============================] - 12s 243us/step - loss: 0.7690 - acc: 0.7464 - val_loss: 0.8339 - val_acc: 0.7389\n",
      "Epoch 86/100\n",
      "50000/50000 [==============================] - 12s 246us/step - loss: 0.7619 - acc: 0.7518 - val_loss: 0.8371 - val_acc: 0.7326\n",
      "Epoch 87/100\n",
      "50000/50000 [==============================] - 12s 244us/step - loss: 0.7498 - acc: 0.7556 - val_loss: 0.8322 - val_acc: 0.7326\n",
      "Epoch 88/100\n",
      "50000/50000 [==============================] - 12s 243us/step - loss: 0.7498 - acc: 0.7565 - val_loss: 0.8207 - val_acc: 0.7341\n",
      "Epoch 89/100\n",
      "50000/50000 [==============================] - 12s 245us/step - loss: 0.7439 - acc: 0.7593 - val_loss: 0.8061 - val_acc: 0.7430\n",
      "Epoch 90/100\n",
      "50000/50000 [==============================] - 12s 244us/step - loss: 0.7423 - acc: 0.7615 - val_loss: 0.7993 - val_acc: 0.7504\n",
      "Epoch 91/100\n",
      "50000/50000 [==============================] - 12s 242us/step - loss: 0.7339 - acc: 0.7661 - val_loss: 0.8163 - val_acc: 0.7477\n",
      "Epoch 92/100\n",
      "50000/50000 [==============================] - 12s 236us/step - loss: 0.7323 - acc: 0.7680 - val_loss: 0.8077 - val_acc: 0.7507\n",
      "Epoch 93/100\n",
      "50000/50000 [==============================] - 12s 238us/step - loss: 0.7320 - acc: 0.7692 - val_loss: 0.8370 - val_acc: 0.7416\n",
      "Epoch 94/100\n",
      "50000/50000 [==============================] - 12s 238us/step - loss: 0.7223 - acc: 0.7714 - val_loss: 0.7971 - val_acc: 0.7599\n",
      "Epoch 95/100\n",
      "50000/50000 [==============================] - 12s 237us/step - loss: 0.7192 - acc: 0.7731 - val_loss: 0.8174 - val_acc: 0.7453\n",
      "Epoch 96/100\n",
      "50000/50000 [==============================] - 12s 242us/step - loss: 0.7151 - acc: 0.7762 - val_loss: 0.7834 - val_acc: 0.7605\n",
      "Epoch 97/100\n",
      "50000/50000 [==============================] - 12s 247us/step - loss: 0.7114 - acc: 0.7777 - val_loss: 0.7806 - val_acc: 0.7610\n",
      "Epoch 98/100\n",
      "50000/50000 [==============================] - 14s 271us/step - loss: 0.7079 - acc: 0.7758 - val_loss: 0.7854 - val_acc: 0.7603\n",
      "Epoch 99/100\n",
      "50000/50000 [==============================] - 13s 261us/step - loss: 0.7074 - acc: 0.7757 - val_loss: 0.7683 - val_acc: 0.7594\n",
      "Epoch 100/100\n",
      "50000/50000 [==============================] - 13s 250us/step - loss: 0.7038 - acc: 0.7792 - val_loss: 0.7835 - val_acc: 0.7588\n",
      "Wall time: 21min 10s\n"
     ]
    }
   ],
   "source": [
    "%%time\n",
    "model = Sequential()\n",
    "model.add(Conv2D(32, (3, 3),\n",
    "                 activation='relu',\n",
    "                 input_shape=x_train.shape[1:]))\n",
    "\n",
    "model.add(Activation('relu'))\n",
    "model.add(Conv2D(32, (3, 3)))\n",
    "model.add(Activation('relu'))\n",
    "model.add(MaxPooling2D(pool_size=(2, 2)))\n",
    "model.add(Dropout(0.25))\n",
    "\n",
    "model.add(Conv2D(64, (3, 3), padding='same'))\n",
    "model.add(Activation('relu'))\n",
    "model.add(Conv2D(64, (3, 3)))\n",
    "model.add(Activation('relu'))\n",
    "model.add(MaxPooling2D(pool_size=(2, 2)))\n",
    "model.add(Dropout(0.25))\n",
    "\n",
    "model.add(Flatten())\n",
    "model.add(Dense(512))\n",
    "model.add(Activation('relu'))\n",
    "model.add(Dropout(0.5))\n",
    "model.add(Dense(num_classes))\n",
    "model.add(Activation('softmax'))\n",
    "model.add(Dense(num_classes, activation='softmax'))\n",
    "\n",
    "model.compile(loss=keras.losses.categorical_crossentropy,\n",
    "              optimizer=keras.optimizers.rmsprop(lr=0.0001, decay=1e-6),\n",
    "              metrics=['accuracy'])\n",
    "\n",
    "x_train = x_train.astype('float32')\n",
    "x_test = x_test.astype('float32')\n",
    "x_train /= 255\n",
    "x_test /= 255\n",
    "\n",
    "model.fit(x_train, y_train,\n",
    "          batch_size=batch_size,\n",
    "          epochs=epochs,\n",
    "          verbose=1,\n",
    "          validation_data=(x_test, y_test),\n",
    "          shuffle=True)\n",
    "\n",
    "score = model.evaluate(x_test, y_test, verbose=0)\n"
   ]
  },
  {
   "cell_type": "code",
   "execution_count": 10,
   "metadata": {},
   "outputs": [],
   "source": [
    "model_path = 'model.h5'\n",
    "model.save(model_path)"
   ]
  },
  {
   "cell_type": "code",
   "execution_count": null,
   "metadata": {},
   "outputs": [],
   "source": []
  }
 ],
 "metadata": {
  "kernelspec": {
   "display_name": "Python 3",
   "language": "python",
   "name": "python3"
  },
  "language_info": {
   "codemirror_mode": {
    "name": "ipython",
    "version": 3
   },
   "file_extension": ".py",
   "mimetype": "text/x-python",
   "name": "python",
   "nbconvert_exporter": "python",
   "pygments_lexer": "ipython3",
   "version": "3.6.5"
  }
 },
 "nbformat": 4,
 "nbformat_minor": 2
}
